{
 "cells": [
  {
   "cell_type": "code",
   "execution_count": 2,
   "id": "fe6bbdbd",
   "metadata": {},
   "outputs": [
    {
     "name": "stdout",
     "output_type": "stream",
     "text": [
      "Jupyter environment detected. Enabling Open3D WebVisualizer.\n",
      "[Open3D INFO] WebRTC GUI backend enabled.\n",
      "[Open3D INFO] WebRTCWindowSystem: HTTP handshake server disabled.\n"
     ]
    }
   ],
   "source": [
    "import open3d as o3d"
   ]
  },
  {
   "cell_type": "code",
   "execution_count": 3,
   "id": "c5301853",
   "metadata": {},
   "outputs": [],
   "source": [
    "pcd = o3d.io.read_point_cloud(\"pointcloud.pcd\")\n",
    "o3d.visualization.draw_geometries([pcd])"
   ]
  },
  {
   "cell_type": "code",
   "execution_count": null,
   "id": "f604e777",
   "metadata": {},
   "outputs": [],
   "source": [
    "\n",
    "\n",
    "# Load point cloud\n",
    "pcd = o3d.io.read_point_cloud(\"pointcloud.pcd\")\n",
    "\n",
    "# Downsample\n",
    "voxel_size = 0.02\n",
    "downsampled_pcd = pcd.voxel_down_sample(voxel_size)\n",
    "\n",
    "# Remove outliers\n",
    "cl, ind = downsampled_pcd.remove_statistical_outlier(nb_neighbors=20, std_ratio=1.5)\n",
    "clean_pcd = downsampled_pcd.select_by_index(ind)\n",
    "\n",
    "# Estimate normals\n",
    "clean_pcd.estimate_normals(search_param=o3d.geometry.KDTreeSearchParamHybrid(radius=0.05, max_nn=20))\n",
    "clean_pcd.orient_normals_consistent_tangent_plane(k=10)\n",
    "\n",
    "# Generate mesh\n",
    "mesh, densities = o3d.geometry.TriangleMesh.create_from_point_cloud_poisson(clean_pcd, depth=9)\n",
    "\n",
    "# Post-process mesh\n",
    "simplified_mesh = mesh.simplify_quadric_decimation(target_number_of_triangles=10000)\n",
    "smoothed_mesh = simplified_mesh.filter_smooth_taubin(number_of_iterations=10)\n",
    "\n",
    "# Save mesh\n",
    "o3d.io.write_triangle_mesh(\"output_mesh.ply\", smoothed_mesh)\n",
    "\n",
    "# Visualize\n",
    "o3d.visualization.draw_geometries([smoothed_mesh])"
   ]
  }
 ],
 "metadata": {
  "kernelspec": {
   "display_name": "Python 3",
   "language": "python",
   "name": "python3"
  },
  "language_info": {
   "codemirror_mode": {
    "name": "ipython",
    "version": 3
   },
   "file_extension": ".py",
   "mimetype": "text/x-python",
   "name": "python",
   "nbconvert_exporter": "python",
   "pygments_lexer": "ipython3",
   "version": "3.10.11"
  }
 },
 "nbformat": 4,
 "nbformat_minor": 5
}
